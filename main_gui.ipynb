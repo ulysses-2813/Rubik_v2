{
 "cells": [
  {
   "cell_type": "code",
   "execution_count": 1,
   "id": "8c30b95a",
   "metadata": {},
   "outputs": [
    {
     "name": "stdout",
     "output_type": "stream",
     "text": [
      "pygame-ce 2.5.5 (SDL 2.32.6, Python 3.13.3)\n"
     ]
    }
   ],
   "source": [
    "import pygame\n",
    "import sys\n",
    "import pygame_gui\n",
    "import import_ipynb"
   ]
  },
  {
   "cell_type": "code",
   "execution_count": 2,
   "id": "06bfdbe2",
   "metadata": {},
   "outputs": [
    {
     "data": {
      "text/plain": [
       "(5, 0)"
      ]
     },
     "execution_count": 2,
     "metadata": {},
     "output_type": "execute_result"
    }
   ],
   "source": [
    "try:\n",
    "    from rubik_gui import RubikGame, SCREEN_W, SCREEN_H  # type: ignore\n",
    "except ImportError:\n",
    "    print(\"エラー: rubik_gui.ipynb のインポートに失敗しました。\")\n",
    "    sys.exit()\n",
    "\n",
    "pygame.init()"
   ]
  },
  {
   "cell_type": "code",
   "execution_count": 3,
   "id": "f8a62ba8",
   "metadata": {},
   "outputs": [
    {
     "name": "stdout",
     "output_type": "stream",
     "text": [
      "--- フォント直接読み込みテスト ---\n",
      "✅ 成功: Pygameはフォントファイルを正常に読み込めました。\n",
      "   フォントオブジェクト: <pygame.font.Font object at 0x0000026347C6B840>\n",
      "--------------------------------\n"
     ]
    }
   ],
   "source": [
    "import os\n",
    "\n",
    "\n",
    "FONT_PATH = os.path.join('IPAexfont00401', 'ipaexg.ttf')\n",
    "print(\"--- フォント直接読み込みテスト ---\")\n",
    "if not os.path.exists(FONT_PATH):\n",
    "    print(f\"エラー: テスト以前に、フォントファイル '{FONT_PATH}' が見つかりません。\")\n",
    "else:\n",
    "    try:\n",
    "        # Pygameの機能で直接フォントを読み込んでみる\n",
    "        test_font = pygame.font.Font(FONT_PATH, 20)\n",
    "        print(\"✅ 成功: Pygameはフォントファイルを正常に読み込めました。\")\n",
    "        print(f\"   フォントオブジェクト: {test_font}\")\n",
    "    except pygame.error as e:\n",
    "        print(f\"❌ 失敗: Pygameがフォントファイルの読み込みに失敗しました。\")\n",
    "        print(f\"   Pygameエラー: {e}\")\n",
    "print(\"--------------------------------\")"
   ]
  },
  {
   "cell_type": "code",
   "execution_count": 4,
   "id": "3c2082b2",
   "metadata": {},
   "outputs": [],
   "source": [
    "def run_difficulty_selector(screen, manager):\n",
    "    width, height = screen.get_size()\n",
    "    pygame_gui.elements.UILabel(relative_rect=pygame.Rect(0, 50, width, 100), text='難易度選択', manager=manager, object_id='#title_label')\n",
    "    button_width, button_height = 300, 90\n",
    "    button_x = (width - button_width) // 2\n",
    "    buttons_info = {\n",
    "        \"easy\":   {\"text\": \"初級\", \"y_pos\": 180, \"id\": \"#easy_button\"},\n",
    "        \"medium\": {\"text\": \"中級\", \"y_pos\": 300, \"id\": \"#medium_button\"},\n",
    "        \"hard\":   {\"text\": \"上級\", \"y_pos\": 420, \"id\": \"#hard_button\"},\n",
    "        \"quit\":   {\"text\": \"終了\", \"y_pos\": 540, \"id\": \"#quit_button\"}\n",
    "    }\n",
    "\n",
    "    # forループでボタンをまとめて作成\n",
    "    for key, info in buttons_info.items():\n",
    "        pygame_gui.elements.UIButton(\n",
    "            relative_rect=pygame.Rect(button_x, info[\"y_pos\"], button_width, button_height),\n",
    "            text=info[\"text\"],\n",
    "            manager=manager,\n",
    "            # object_idにユニークなIDを指定する\n",
    "            object_id=pygame_gui.core.ObjectID(class_id='@difficulty_button', object_id=info[\"id\"])\n",
    "        )\n",
    "\n",
    "    clock = pygame.time.Clock()\n",
    "    while True:\n",
    "        time_delta = clock.tick(60) / 1000.0\n",
    "        for event in pygame.event.get():\n",
    "            if event.type == pygame.QUIT: return None\n",
    "            if event.type == pygame_gui.UI_BUTTON_PRESSED:\n",
    "                if event.ui_element.text == \"初級\": return \"easy\"\n",
    "                if event.ui_element.text == \"中級\": return \"medium\"\n",
    "                if event.ui_element.text == \"上級\": return \"hard\"\n",
    "                if event.ui_element.text == \"終了\": return None\n",
    "            manager.process_events(event)\n",
    "        manager.update(time_delta)\n",
    "        screen.fill((255, 255, 255))\n",
    "        manager.draw_ui(screen)\n",
    "        pygame.display.flip()"
   ]
  },
  {
   "cell_type": "code",
   "execution_count": 5,
   "id": "320f39ec",
   "metadata": {},
   "outputs": [
    {
     "name": "stdout",
     "output_type": "stream",
     "text": [
      "難易度「hard」でゲームを開始します。\n",
      "6面の画像でMatrixを初期化しました。\n",
      "回転: Y+, インデックス: 0\n",
      "回転: X+, インデックス: 0\n",
      "回転: Z-, インデックス: 2\n",
      "回転: Z+, インデックス: 0\n",
      "回転: Z-, インデックス: 1\n",
      "回転: Y+, インデックス: 2\n",
      "回転: Y-, インデックス: 0\n",
      "回転: Z+, インデックス: 2\n",
      "回転: Y+, インデックス: 2\n",
      "回転: Z+, インデックス: 0\n",
      "回転: X-, インデックス: 0\n",
      "回転: X-, インデックス: 1\n",
      "回転: Y-, インデックス: 2\n",
      "回転: Z+, インデックス: 2\n",
      "回転: X+, インデックス: 1\n",
      "回転: Y-, インデックス: 0\n",
      "回転: Y-, インデックス: 0\n",
      "回転: X-, インデックス: 2\n",
      "回転: X-, インデックス: 2\n",
      "回転: X-, インデックス: 0\n",
      "選ばれた国旗の国名: ['San Marino', 'Croatia', 'Dominica', 'Vietnam', 'the Democratic Republic of the Congo', 'Kyrgyzstan']\n",
      "クイズ用データ: {'San Marino': ['サンマリノ共和国', 'サンマリノ'], 'Croatia': ['クロアチア共和国', 'クロアチア'], 'Dominica': ['ドミニカ', 'ドミニカ国'], 'Vietnam': ['ベトナム社会主義共和国', '越', 'ベトナム'], 'the Democratic Republic of the Congo': ['コンゴ民主共和国', 'DRコンゴ'], 'Kyrgyzstan': ['キルギスタン', 'キルギス', 'キルギス共和国']}\n",
      "\n",
      "\n"
     ]
    },
    {
     "name": "stderr",
     "output_type": "stream",
     "text": [
      "c:\\PythonProjects\\MyNotebook\\rubik_cube\\venv2\\Lib\\site-packages\\pygame_gui\\core\\ui_appearance_theme.py:2054: UserWarning: Theme validation found 2 errors:\n",
      "  - defaults.font: Missing required field 'size'\n",
      "  - Element 'fonts' must be a dictionary, got list\n",
      "  warnings.warn(\n",
      "c:\\PythonProjects\\MyNotebook\\rubik_cube\\venv2\\Lib\\site-packages\\pygame_gui\\core\\ui_appearance_theme.py:2682: UserWarning: Font data validation errors for defaults:\n",
      "  - defaults.font: Missing required field 'size'\n",
      "  warnings.warn(\n"
     ]
    },
    {
     "name": "stdout",
     "output_type": "stream",
     "text": [
      "プログラムを終了しました。\n"
     ]
    }
   ],
   "source": [
    "def main():\n",
    "    screen = pygame.display.set_mode((SCREEN_W, SCREEN_H))\n",
    "    while True:\n",
    "        pygame.display.set_caption(\"難易度選択\")\n",
    "        ui_manager = pygame_gui.UIManager((SCREEN_W, SCREEN_H), 'theme.json', starting_language='ja')\n",
    "        # ui_manager = pygame_gui.UIManager((SCREEN_W, SCREEN_H), 'theme.json')  --- IGNORE ---\n",
    "        difficulty = run_difficulty_selector(screen, ui_manager)\n",
    "        if difficulty is None: break\n",
    "        print(f\"難易度「{difficulty}」でゲームを開始します。\")\n",
    "        game = RubikGame(difficulty=difficulty, screen_surface=screen)\n",
    "        game_result = game.run()\n",
    "        if game_result == \"QUIT_PROGRAM\": break\n",
    "    pygame.quit()\n",
    "    print(\"プログラムを終了しました。\")\n",
    "\n",
    "# --- このセルを実行するとゲームが始まります ---\n",
    "main()"
   ]
  }
 ],
 "metadata": {
  "kernelspec": {
   "display_name": "venv2",
   "language": "python",
   "name": "python3"
  },
  "language_info": {
   "codemirror_mode": {
    "name": "ipython",
    "version": 3
   },
   "file_extension": ".py",
   "mimetype": "text/x-python",
   "name": "python",
   "nbconvert_exporter": "python",
   "pygments_lexer": "ipython3",
   "version": "3.13.3"
  }
 },
 "nbformat": 4,
 "nbformat_minor": 5
}
